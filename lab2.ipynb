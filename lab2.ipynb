{
  "nbformat": 4,
  "nbformat_minor": 0,
  "metadata": {
    "colab": {
      "provenance": [],
      "authorship_tag": "ABX9TyPlqw0UQ5NLyaOsMNilGWcv",
      "include_colab_link": true
    },
    "kernelspec": {
      "name": "python3",
      "display_name": "Python 3"
    },
    "language_info": {
      "name": "python"
    }
  },
  "cells": [
    {
      "cell_type": "markdown",
      "metadata": {
        "id": "view-in-github",
        "colab_type": "text"
      },
      "source": [
        "<a href=\"https://colab.research.google.com/github/shuvo3383/Calculator/blob/main/lab2.ipynb\" target=\"_parent\"><img src=\"https://colab.research.google.com/assets/colab-badge.svg\" alt=\"Open In Colab\"/></a>"
      ]
    },
    {
      "cell_type": "code",
      "execution_count": null,
      "metadata": {
        "colab": {
          "base_uri": "https://localhost:8080/"
        },
        "id": "CFDBcdSwj38Q",
        "outputId": "272c438a-22b2-465a-e1d1-b8c005a949c9"
      },
      "outputs": [
        {
          "output_type": "stream",
          "name": "stdout",
          "text": [
            "\n",
            "Distance between 'Inception' and 'Avengers: Endgame':\n",
            "  Euclidean Distance: 1968.10\n",
            "  Manhattan Distance: 1971.50\n",
            "  Cosine Similarity: 1.00\n",
            "  Associative Distance (Binary): 0.50\n",
            "\n",
            "Distance between 'Inception' and 'The Dark Knight':\n",
            "  Euclidean Distance: 175.10\n",
            "  Manhattan Distance: 176.30\n",
            "  Cosine Similarity: 1.00\n",
            "  Associative Distance (Binary): 0.00\n",
            "\n",
            "Distance between 'Avengers: Endgame' and 'The Dark Knight':\n",
            "  Euclidean Distance: 1793.00\n",
            "  Manhattan Distance: 1795.60\n",
            "  Cosine Similarity: 1.00\n",
            "  Associative Distance (Binary): 0.50\n"
          ]
        }
      ],
      "source": [
        "import numpy as np\n",
        "from scipy.spatial.distance import euclidean, cityblock, cosine\n",
        "from sklearn.preprocessing import LabelEncoder\n",
        "\n",
        "# Movie class\n",
        "class Movie:\n",
        "    def __init__(self, title, genre, is_sequel, user_rating, box_office, is_streaming, director):\n",
        "        self.title = title\n",
        "        self.genre = genre\n",
        "        self.is_sequel = is_sequel\n",
        "        self.user_rating = user_rating\n",
        "        self.box_office = box_office\n",
        "        self.is_streaming = is_streaming\n",
        "        self.director = director\n",
        "\n",
        "    def to_vector(self, label_encoder):\n",
        "        \"\"\"\n",
        "        Convert movie features to a vector for distance computation.\n",
        "        Numeric and binary features are left unchanged.\n",
        "        Non-numeric features (genre, director) are encoded.\n",
        "        \"\"\"\n",
        "        genre_encoded = label_encoder['genre'].transform([self.genre])[0]\n",
        "        director_encoded = label_encoder['director'].transform([self.director])[0]\n",
        "        return np.array([\n",
        "            self.is_sequel,\n",
        "            self.is_streaming,\n",
        "            self.user_rating,\n",
        "            self.box_office,\n",
        "            genre_encoded,\n",
        "            director_encoded\n",
        "        ])\n",
        "\n",
        "\n",
        "movies = [\n",
        "    Movie(\"Inception\", \"Science Fiction\", False, 8.8, 829.9, True, \"Christopher Nolan\"),\n",
        "    Movie(\"Avengers: Endgame\", \"Action\", True, 8.4, 2798.0, True, \"Anthony Russo, Joe Russo\"),\n",
        "    Movie(\"The Dark Knight\", \"Action\", False, 9.0, 1005.0, True, \"Christopher Nolan\")\n",
        "]\n",
        "\n",
        "\n",
        "label_encoder = {\n",
        "    'genre': LabelEncoder().fit([movie.genre for movie in movies]),\n",
        "    'director': LabelEncoder().fit([movie.director for movie in movies])\n",
        "}\n",
        "\n",
        "\n",
        "movie_vectors = [movie.to_vector(label_encoder) for movie in movies]\n",
        "\n",
        "\n",
        "for i in range(len(movie_vectors)):\n",
        "    for j in range(i + 1, len(movie_vectors)):\n",
        "        movie1 = movies[i].title\n",
        "        movie2 = movies[j].title\n",
        "        vector1 = movie_vectors[i]\n",
        "        vector2 = movie_vectors[j]\n",
        "\n",
        "\n",
        "        euclidean_dist = euclidean(vector1, vector2)\n",
        "        manhattan_dist = cityblock(vector1, vector2)\n",
        "        cosine_sim = 1 - cosine(vector1, vector2)\n",
        "\n",
        "\n",
        "        binary1 = vector1[:2]\n",
        "        binary2 = vector2[:2]\n",
        "        associative_dist = 1 - (np.sum(binary1 == binary2) / len(binary1))\n",
        "\n",
        "\n",
        "        print(f\"\\nDistance between '{movie1}' and '{movie2}':\")\n",
        "        print(f\"  Euclidean Distance: {euclidean_dist:.2f}\")\n",
        "        print(f\"  Manhattan Distance: {manhattan_dist:.2f}\")\n",
        "        print(f\"  Cosine Similarity: {cosine_sim:.2f}\")\n",
        "        print(f\"  Associative Distance (Binary): {associative_dist:.2f}\")"
      ]
    }
  ]
}